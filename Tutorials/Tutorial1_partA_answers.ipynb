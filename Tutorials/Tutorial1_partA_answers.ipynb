{
 "cells": [
  {
   "cell_type": "markdown",
   "metadata": {},
   "source": [
    "## Student Name: \n",
    "\n",
    "---\n",
    "\n",
    "# Tutorial 1 - Part A: Descriptive statistics\n",
    "\n",
    "All the parts that require action (either in the code or equations) are flagged by `<your turn>` or $\\color{red}{<your~turn>}$"
   ]
  },
  {
   "cell_type": "code",
   "execution_count": 1,
   "metadata": {
    "tags": []
   },
   "outputs": [],
   "source": [
    "import numpy as np\n",
    "import scipy.stats as st\n",
    "from scipy.optimize import fsolve\n",
    "from scipy.integrate import quad\n",
    "import matplotlib.pylab as plt\n",
    "import matplotlib.colors as colors\n",
    "\n",
    "# Setting plot fonts\n",
    "plt.rc('font', family='serif')\n",
    "\n",
    "# Below is a set of colors for matplotlib that is color-vision-defiency friendly.\n",
    "# To use them in plotting commands, you can simply set \"color=colorset[N]\",\n",
    "# where N is an integer in [0,16), reflecting the index of the colors below.\n",
    "colorset = ['#000000','#00270C','#00443C','#005083',\n",
    "            '#034BCA','#483CFC','#9C2BFF','#EB24F4',\n",
    "            '#FF2DC2','#FF4986','#FF7356','#FFA443',\n",
    "            '#EBD155','#D3F187','#D7FFC8','#FFFFFF']"
   ]
  },
  {
   "cell_type": "markdown",
   "metadata": {},
   "source": [
    "## Properties of PDFs\n",
    "\n",
    "We are going to define an arbitrary function which may be a PDF and study its properties."
   ]
  },
  {
   "cell_type": "code",
   "execution_count": 2,
   "metadata": {},
   "outputs": [],
   "source": [
    "def my_pdf(x, a):\n",
    "    \"\"\"\n",
    "    x: independent variable\n",
    "    \n",
    "    a: a shape parameter\n",
    "    \"\"\"\n",
    "    return 2 * st.norm.pdf(x) * st.norm.cdf(a*x)"
   ]
  },
  {
   "cell_type": "markdown",
   "metadata": {},
   "source": [
    "Assume $a=-10$ and perform the following analyses.\n",
    "\n",
    "### Plot the PDF."
   ]
  },
  {
   "cell_type": "code",
   "execution_count": 3,
   "metadata": {},
   "outputs": [
    {
     "data": {
      "image/png": "[encoded data removed]",
      "text/plain": [
       "<Figure size 576x432 with 1 Axes>"
      ]
     },
     "metadata": {
      "needs_background": "light"
     },
     "output_type": "display_data"
    }
   ],
   "source": [
    "# <your turn> : define variables and calculations you may need here.\n",
    "x = np.linspace(-10,10,1000)\n",
    "y = my_pdf(x,-10)\n",
    "\n",
    "# Initiating the figure\n",
    "fig = plt.figure(figsize=(8,6))\n",
    "ax = fig.add_subplot(1,1,1)\n",
    "# <your turn> : add your plotting commands here.\n",
    "\n",
    "ax.plot(x,y)\n",
    "\n",
    "\n",
    "# Plot cosmetics - feel free to edit.\n",
    "ax.set_xlabel('X',fontsize=20)\n",
    "ax.set_ylabel('P(X)', fontsize=20)\n",
    "ax.tick_params(axis='both', which='major', labelsize=16)\n",
    "ax.tick_params(axis='both', which='major', length=5)\n",
    "ax.tick_params(axis='both', which='minor', length=2.5)\n",
    "ax.tick_params(axis='both', which='both',direction='in',right=True,top=True);"
   ]
  },
  {
   "cell_type": "markdown",
   "metadata": {},
   "source": [
    "### Use the Kolomogrov axioms and show that the function defined above can be a PDF."
   ]
  },
  {
   "cell_type": "code",
   "execution_count": 4,
   "metadata": {},
   "outputs": [
    {
     "name": "stdout",
     "output_type": "stream",
     "text": [
      "The function integral = 1.0\n"
     ]
    }
   ],
   "source": [
    "# <your turn>\n",
    "\n",
    "pdf_integral = quad(my_pdf,-100,100, args=(-10))[0]\n",
    "\n",
    "print(f'The function integral = {round(pdf_integral,2)}')"
   ]
  },
  {
   "cell_type": "markdown",
   "metadata": {},
   "source": [
    "### Calculate the expectation value, standard deviation, kurtosis, skewness, mode, median and 95% quantile.\n",
    "\n",
    "*Note*: Define each as a python function of $a$. This will allow easier comparison and test later on.\n",
    "\n",
    "#### Expectation value"
   ]
  },
  {
   "cell_type": "code",
   "execution_count": 5,
   "metadata": {},
   "outputs": [
    {
     "name": "stdout",
     "output_type": "stream",
     "text": [
      "mu: -0.7939248114932141\n"
     ]
    }
   ],
   "source": [
    "# <your turn>\n",
    "\n",
    "def expectation_value(a):\n",
    "    # <your turn>\n",
    "    integrand = lambda x: x * my_pdf(x, a)\n",
    "    return quad(integrand,-100,100)[0]\n",
    "\n",
    "print('mu:',expectation_value(-10))"
   ]
  },
  {
   "cell_type": "markdown",
   "metadata": {},
   "source": [
    "#### Standard Deviation"
   ]
  },
  {
   "cell_type": "code",
   "execution_count": 6,
   "metadata": {},
   "outputs": [
    {
     "name": "stdout",
     "output_type": "stream",
     "text": [
      "sigma: 0.608015948553543\n"
     ]
    }
   ],
   "source": [
    "# <your turn>\n",
    "\n",
    "def standard_deviation(a):\n",
    "    # <your turn>\n",
    "    mu = expectation_value(a)\n",
    "    integrand = lambda x: (x-mu)**2 * my_pdf(x, a)\n",
    "    return np.sqrt(quad(integrand, -100, 100)[0])\n",
    "\n",
    "print('sigma:',standard_deviation(-10))"
   ]
  },
  {
   "cell_type": "markdown",
   "metadata": {},
   "source": [
    "#### Skewness"
   ]
  },
  {
   "cell_type": "code",
   "execution_count": 7,
   "metadata": {},
   "outputs": [
    {
     "name": "stdout",
     "output_type": "stream",
     "text": [
      "skewness: -0.9555570924911079\n"
     ]
    }
   ],
   "source": [
    "# <your turn>\n",
    "\n",
    "def skewness(a):\n",
    "    # <your turn>\n",
    "    mu = expectation_value(a)\n",
    "    sigma = standard_deviation(a)\n",
    "    integrand = lambda x: ((x-mu)/sigma)**3 * my_pdf(x, a)\n",
    "    return quad(integrand, -100, 100)[0]\n",
    "\n",
    "print('skewness:', skewness(-10))"
   ]
  },
  {
   "cell_type": "markdown",
   "metadata": {},
   "source": [
    "#### Kurtosis"
   ]
  },
  {
   "cell_type": "code",
   "execution_count": 8,
   "metadata": {},
   "outputs": [
    {
     "name": "stdout",
     "output_type": "stream",
     "text": [
      "kurtosis: 0.8232435377183287\n"
     ]
    }
   ],
   "source": [
    "# <your turn>\n",
    "\n",
    "def kurtosis(a):\n",
    "    # <your turn>\n",
    "    mu = expectation_value(a)\n",
    "    sigma = standard_deviation(a)\n",
    "    integrand = lambda x: ((x-mu)/sigma)**4 * my_pdf(x, a)\n",
    "    return quad(integrand, -100, 100)[0] - 3\n",
    "\n",
    "print('kurtosis:', kurtosis(-10))"
   ]
  },
  {
   "cell_type": "markdown",
   "metadata": {},
   "source": [
    "#### Mode"
   ]
  },
  {
   "cell_type": "code",
   "execution_count": 9,
   "metadata": {},
   "outputs": [
    {
     "name": "stdout",
     "output_type": "stream",
     "text": [
      "mode: -0.23511755877938967\n"
     ]
    }
   ],
   "source": [
    "# <your turn>\n",
    "\n",
    "def mode(a):\n",
    "    # <your turn>\n",
    "    # A very crude method, but it is sufficient for our simple case\n",
    "    x = np.linspace(-10,10,2000)\n",
    "    y = my_pdf(x,a)\n",
    "    return x[y.argmax()]\n",
    "\n",
    "print('mode:', mode(-10))"
   ]
  },
  {
   "cell_type": "markdown",
   "metadata": {},
   "source": [
    "#### Median and 95% quantile\n",
    "\n",
    "*hint: the same function can do both. Define it as a function of $a$ and $q$ (quantile)*"
   ]
  },
  {
   "cell_type": "code",
   "execution_count": 10,
   "metadata": {},
   "outputs": [
    {
     "name": "stdout",
     "output_type": "stream",
     "text": [
      "median: [-0.67448975]\n",
      "95%: [-0.03963407]\n"
     ]
    }
   ],
   "source": [
    "# <your turn>\n",
    "\n",
    "def quantile(a, q):\n",
    "    # <your turn>\n",
    "    int_pdf = lambda x_uplim: quad(my_pdf, -100, x_uplim, args=(a))[0] - q\n",
    "    mu = expectation_value(a)\n",
    "    return fsolve(int_pdf, x0=mu)\n",
    "\n",
    "print('median:', quantile(-10,0.5))\n",
    "print('95%:', quantile(-10,0.95))"
   ]
  },
  {
   "cell_type": "markdown",
   "metadata": {},
   "source": [
    "#### Now let's replot the PDF and the mean, median and mode values."
   ]
  },
  {
   "cell_type": "code",
   "execution_count": 12,
   "metadata": {},
   "outputs": [
    {
     "data": {
      "image/png": "[encoded data removed]",
      "text/plain": [
       "<Figure size 576x432 with 1 Axes>"
      ]
     },
     "metadata": {
      "needs_background": "light"
     },
     "output_type": "display_data"
    }
   ],
   "source": [
    "test_a = -10\n",
    "\n",
    "# <your turn> : define variables and calculations you may need here.\n",
    "x = np.linspace(-5,5,1000)\n",
    "y = my_pdf(x,test_a)\n",
    "\n",
    "# Initiating the figure\n",
    "fig = plt.figure(figsize=(8,6))\n",
    "ax = fig.add_subplot(1,1,1)\n",
    "# <your turn> : add your plotting commands here.\n",
    "# Note: use the keyword \"label\" to name them. This allows the legend command to produce a clear legend.\n",
    "\n",
    "ax.plot(x,y,label='PDF(X)',color=colorset[2])\n",
    "ax.axvline(expectation_value(test_a),color=colorset[5],linestyle='-',label='Mean')\n",
    "ax.axvline(mode(test_a),color=colorset[8],linestyle='--',label='Mode')\n",
    "ax.axvline(quantile(test_a,0.5),color=colorset[10],linestyle=':',label='Median')\n",
    "\n",
    "# A special addition: We're going to print the value of a and function's skewness on the plot\n",
    "if type(skewness(test_a)) == float:\n",
    "    ax.text(-5,0.5,f'a = {test_a}',fontsize=14)\n",
    "    ax.text(-5,0.45,f'Skewness = {skewness(test_a):.2}',fontsize=14)\n",
    "\n",
    "# Plot cosmetics - feel free to edit.\n",
    "ax.legend(loc=2,fontsize=14)\n",
    "ax.set_xlabel('X',fontsize=20)\n",
    "ax.set_ylabel('PDF(X)', fontsize=20)\n",
    "ax.tick_params(axis='both', which='major', labelsize=16)\n",
    "ax.tick_params(axis='both', which='major', length=5)\n",
    "ax.tick_params(axis='both', which='minor', length=2.5)\n",
    "ax.tick_params(axis='both', which='both',direction='in',right=True,top=True);"
   ]
  },
  {
   "cell_type": "markdown",
   "metadata": {},
   "source": [
    "#### Rerun the last cell, with different values of a and check how Mean, Mode, Median and skewness vary."
   ]
  },
  {
   "cell_type": "markdown",
   "metadata": {},
   "source": [
    "## You can now save the notebook and download it."
   ]
  }
 ],
 "metadata": {
  "kernelspec": {
   "display_name": "bayes",
   "language": "python",
   "name": "bayes"
  },
  "language_info": {
   "codemirror_mode": {
    "name": "ipython",
    "version": 3
   },
   "file_extension": ".py",
   "mimetype": "text/x-python",
   "name": "python",
   "nbconvert_exporter": "python",
   "pygments_lexer": "ipython3",
   "version": "3.10.5"
  }
 },
 "nbformat": 4,
 "nbformat_minor": 4
}
