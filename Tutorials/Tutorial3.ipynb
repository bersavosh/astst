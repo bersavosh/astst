{
 "cells": [
  {
   "cell_type": "markdown",
   "id": "943f2e83-1295-4290-8899-0fff99964b0c",
   "metadata": {},
   "source": [
    "## Student Name: \n",
    "\n",
    "---\n",
    "\n",
    "# Tutorial 3: Samples, histograms, EDF and EDF-based statistics\n",
    "\n",
    "All the parts that require action (either in the code or equations) are flagged by `<your turn>` or $\\color{red}{<your~turn>}$"
   ]
  },
  {
   "cell_type": "code",
   "execution_count": null,
   "id": "d48a4811-e6ef-4560-ace9-2ca059c47f90",
   "metadata": {},
   "outputs": [],
   "source": [
    "import numpy as np\n",
    "import emcee\n",
    "from scipy.integrate import quad\n",
    "import scipy.stats as st\n",
    "from scipy.misc import derivative\n",
    "from scipy.optimize import curve_fit, minimize, fsolve\n",
    "import matplotlib.pylab as plt\n",
    "import matplotlib.colors as colors\n",
    "\n",
    "\n",
    "# If you have astropy, uncomment the following (optional)\n",
    "from astropy.visualization import hist\n",
    "\n",
    "plt.rc('font', family='serif')\n",
    "\n",
    "# Below is a set of colors for matplotlib that is colorblind-friendly\n",
    "# To use them in plotting commands, you can simply set \"color=colorset[N]\",\n",
    "# where N is an integer in [0,16), reflecting the index of the colors below.\n",
    "colorset = ['#000000','#00270C','#00443C','#005083',\n",
    "            '#034BCA','#483CFC','#9C2BFF','#EB24F4',\n",
    "            '#FF2DC2','#FF4986','#FF7356','#FFA443',\n",
    "            '#EBD155','#D3F187','#D7FFC8','#FFFFFF']"
   ]
  },
  {
   "cell_type": "markdown",
   "id": "37cb2fa3-3398-426b-a417-48d9d59fc7ea",
   "metadata": {},
   "source": [
    "We have a sample of values (measurements) $X=\\{x_i\\}$, and we want to test the hypothesis that weather this sample is drawn from a specific distribution."
   ]
  },
  {
   "cell_type": "code",
   "execution_count": null,
   "id": "3935b1cf-f2f8-450d-8206-1529b17c1594",
   "metadata": {},
   "outputs": [],
   "source": [
    "sample = np.loadtxt('Data_T3_samp1.txt')"
   ]
  },
  {
   "cell_type": "markdown",
   "id": "bc2173ec-f881-4af7-bc6a-9f5924fc3e79",
   "metadata": {},
   "source": [
    "## Plot a histogram of the data\n",
    "\n",
    "The histogram function from astropy `astropy.visualization.hist` has been imported as `hist`. Use this function to plot the **normalized** histogram. Play with binning options and make a choice based on the lecture.\n",
    "\n",
    "If you don't have `astropy` installed, you can use the matplotlib version (which does not have `kunth` or `blocks` availabe)."
   ]
  },
  {
   "cell_type": "code",
   "execution_count": null,
   "id": "4819cd1e-a43f-4099-98ee-cc505df2a86d",
   "metadata": {},
   "outputs": [],
   "source": [
    "# <your turn>\n",
    "\n",
    "# Initiating the figure\n",
    "fig = plt.figure(figsize=(8,6))\n",
    "ax = fig.add_subplot(1,1,1)\n",
    "# <your turn> : add your plotting commands here. If you label them properly, they will show up in the legend.\n",
    "\n",
    "\n",
    "\n",
    "# Plot cosmetics - feel free to edit.\n",
    "ax.set_xlabel('X',fontsize=20)\n",
    "ax.set_ylabel('Prob. Density',fontsize=20)\n",
    "ax.tick_params(axis='both', which='major', labelsize=16)\n",
    "ax.tick_params(axis='both', which='major', length=5)\n",
    "ax.tick_params(axis='both', which='minor', length=2.5)\n",
    "ax.tick_params(axis='both', which='both',direction='in',right=True,top=True)"
   ]
  },
  {
   "cell_type": "markdown",
   "id": "fda547cd-b8fb-46a1-b2df-c5b15bd36f9d",
   "metadata": {},
   "source": [
    "## Write a python function that returns the EDF function and plot the EDF.\n",
    "\n",
    "$$\\displaystyle \\hat{F}_n(t) = \\frac{\\textrm{number of elements}\\leq t}{n} = \\frac{1}{n} \\sum_{i=1}^n 1_{X_i\\leq t}$$\n",
    "\n",
    "Note 1: values of $X$ should be sorted for an EDF.\n",
    "\n",
    "Note 2: For plotting the EDF as a step function, you can consider using `step` in matplotlib."
   ]
  },
  {
   "cell_type": "code",
   "execution_count": null,
   "id": "3290ca84-dd20-4770-a088-ef33d21eb720",
   "metadata": {},
   "outputs": [],
   "source": [
    "# <your turn>\n",
    "\n",
    "\n",
    "\n",
    "# Initiating the figure\n",
    "fig = plt.figure(figsize=(8,6))\n",
    "ax1 = plt.subplot2grid((8,1),(0,0),fig=fig,rowspan=7)\n",
    "# <your turn>\n",
    "\n",
    "\n",
    "# Plot cosmetics - feel free to edit.\n",
    "ax1.set_xlabel('X',fontsize=20)\n",
    "ax1.set_ylabel(r'$P_X(X < x)$',fontsize=20)\n",
    "ax1.set_xlim(sample.min(),sample.max())\n",
    "ax1.set_ylim(0,1)\n",
    "ax1.minorticks_on()\n",
    "ax1.tick_params(axis='both', which='major', labelsize=16)\n",
    "ax1.tick_params(axis='both', which='major', length=9)\n",
    "ax1.tick_params(axis='both', which='minor', length=4.5)\n",
    "ax1.tick_params(axis='both', which='both',direction='in',right=True,top=True)"
   ]
  },
  {
   "cell_type": "markdown",
   "id": "140eb149-c15d-4ae6-be27-1fc05c154c7a",
   "metadata": {},
   "source": [
    "## What type of distribution(s) do you think the sample maybe drawn from? \n",
    "\n",
    "Based on your answer, write a mixture likelihood to model your hypothesized underlying distribution, and find the best-fit values for the distribution parameters.\n",
    "\n",
    "$$\\displaystyle \\ln \\text{L} = \\sum_{i=1}^N \\ln\\left[\\sum_{j=1}^{M} \\alpha_j \\mathcal{D_j}(\\theta_j|x_i)\\right]$$\n",
    "\n",
    "Note 1: `minimize` can be given `bound`, so that the optimization only happens around the region of interest.\n",
    "\n",
    "Note 2: in `minimize` for this task, I recommend setting `method='Nelder-Mead'`."
   ]
  },
  {
   "cell_type": "code",
   "execution_count": null,
   "id": "aba57bd8-018e-46e6-9347-2f475866b11f",
   "metadata": {},
   "outputs": [],
   "source": [
    "# <your turn>\n",
    "def mixture_loglike(theta, data):\n",
    "\n",
    "    return\n",
    "\n",
    "\n",
    "# best_fit here could be the entire output from minimize\n",
    "best_fit = \n",
    "print(best_fit)"
   ]
  },
  {
   "cell_type": "markdown",
   "id": "3855f1c0-011d-460c-b220-96e2c6f7070b",
   "metadata": {},
   "source": [
    "## Write a function for your model's PDF, and plot it against the data histogram."
   ]
  },
  {
   "cell_type": "code",
   "execution_count": null,
   "id": "ad01d19c-a220-4a11-8527-420f200a4d14",
   "metadata": {},
   "outputs": [],
   "source": [
    "# <your turn>\n",
    "def model_pdf(x, theta):\n",
    "\n",
    "    return\n",
    "\n",
    "# Initiating the figure\n",
    "fig = plt.figure(figsize=(8,6))\n",
    "ax1 = plt.subplot2grid((8,1),(0,0),fig=fig,rowspan=7)\n",
    "# <your turn>\n",
    "\n",
    "\n",
    "\n",
    "# Plot cosmetics - feel free to edit.\n",
    "ax1.set_xlabel('X',fontsize=20)\n",
    "ax1.set_ylabel(r'$P(x)$',fontsize=20)\n",
    "ax1.set_xlim(sample.min(),sample.max())\n",
    "ax1.minorticks_on()\n",
    "ax1.tick_params(axis='both', which='major', labelsize=16)\n",
    "ax1.tick_params(axis='both', which='major', length=9)\n",
    "ax1.tick_params(axis='both', which='minor', length=4.5)\n",
    "ax1.tick_params(axis='both', which='both',direction='in',right=True,top=True)"
   ]
  },
  {
   "cell_type": "markdown",
   "id": "a0bb9b2c-664c-485a-aedf-ae07509a68ee",
   "metadata": {},
   "source": [
    "## Write a function for your model's CDF, and Plot it against the data EDF."
   ]
  },
  {
   "cell_type": "code",
   "execution_count": null,
   "id": "5655965b-4855-48f2-a2d0-f34714c85415",
   "metadata": {},
   "outputs": [],
   "source": [
    "# <your turn>\n",
    "def model_cdf(x, theta):\n",
    "\n",
    "    return\n",
    "\n",
    "# Initiating the figure\n",
    "fig = plt.figure(figsize=(8,6))\n",
    "ax1 = plt.subplot2grid((8,1),(0,0),fig=fig,rowspan=7)\n",
    "# <your turn>\n",
    "\n",
    "\n",
    "\n",
    "\n",
    "\n",
    "# Plot cosmetics - feel free to edit.\n",
    "ax1.set_xlabel('X',fontsize=20)\n",
    "ax1.set_ylabel(r'$P_X(X < x)$',fontsize=20)\n",
    "ax1.set_xlim(sample.min(),sample.max())\n",
    "ax1.set_ylim(0,1)\n",
    "ax1.minorticks_on()\n",
    "ax1.tick_params(axis='both', which='major', labelsize=16)\n",
    "ax1.tick_params(axis='both', which='major', length=9)\n",
    "ax1.tick_params(axis='both', which='minor', length=4.5)\n",
    "ax1.tick_params(axis='both', which='both',direction='in',right=True,top=True)"
   ]
  },
  {
   "cell_type": "markdown",
   "id": "0e180809-c9e0-4b91-82fa-643028b66051",
   "metadata": {},
   "source": [
    "## Can we reject the null hypothesis (i.e., that the sample is drawn from our model distribution)?\n",
    "\n",
    "While A-D is a superior test for this as we discussed, for the simple case here, let's use the K-S test."
   ]
  },
  {
   "cell_type": "code",
   "execution_count": null,
   "id": "1cf28cf5-3277-4aab-a23a-4aad237f56aa",
   "metadata": {},
   "outputs": [],
   "source": [
    "# <your turn>\n",
    "\n",
    "\n"
   ]
  },
  {
   "cell_type": "markdown",
   "id": "70f5c260-b2c7-4d22-a746-f0624dfc5c57",
   "metadata": {},
   "source": [
    "As we discussed, this result comes with a caveat that these tests can be inaccurate if the model is derived from the data being evaluated."
   ]
  },
  {
   "cell_type": "markdown",
   "id": "3dd02ecc-547c-4fe3-9c87-4bb1ba88df85",
   "metadata": {},
   "source": [
    "### One last note\n",
    "If you were to \"fit\" a single distribution (e.g., a single normal dist or something else), as we discussed in the lecture, you just need the appropriate estimators. Note that this is implemented in the distributions in `scipy.stats`, so you can simply find the \"best-fit\" values of sample estimators that would correspond to a hypothesized distribution. For example:"
   ]
  },
  {
   "cell_type": "code",
   "execution_count": null,
   "id": "bb1952b6-5132-499c-b0eb-db343c721a41",
   "metadata": {},
   "outputs": [],
   "source": [
    "st.norm.fit(sample)"
   ]
  },
  {
   "cell_type": "code",
   "execution_count": null,
   "id": "edbafb57-6a02-489d-8809-15809d514924",
   "metadata": {},
   "outputs": [],
   "source": [
    "st.laplace.fit(sample)"
   ]
  },
  {
   "cell_type": "markdown",
   "id": "afbd1891-9025-47e3-ac0a-fe51bcbc6c8e",
   "metadata": {},
   "source": [
    "**Remember**, having best-fit values does not mean the model/distribution is appropriately desciribing the data. As you can see that if you perform any EDF tests."
   ]
  },
  {
   "cell_type": "markdown",
   "id": "fe35fb18-165c-4224-a957-b56d4044d1ff",
   "metadata": {},
   "source": [
    "## You can now save the notebook and download it."
   ]
  }
 ],
 "metadata": {
  "kernelspec": {
   "display_name": "bayes",
   "language": "python",
   "name": "bayes"
  },
  "language_info": {
   "codemirror_mode": {
    "name": "ipython",
    "version": 3
   },
   "file_extension": ".py",
   "mimetype": "text/x-python",
   "name": "python",
   "nbconvert_exporter": "python",
   "pygments_lexer": "ipython3",
   "version": "3.10.5"
  }
 },
 "nbformat": 4,
 "nbformat_minor": 5
}
