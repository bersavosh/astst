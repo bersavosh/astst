{
 "cells": [
  {
   "cell_type": "markdown",
   "metadata": {},
   "source": [
    "## Student Name: \n",
    "\n",
    "---\n",
    "# PHYS4003: Statistics Module Assignment \n",
    "\n",
    "Dr. Arash Bahramian\n",
    "\n",
    "\n",
    "**Due on October 14, 2022**\n",
    "\n",
    "**Total points: 50 (15% of the total mark for the unit)**\n",
    "\n",
    "---\n",
    "\n",
    "**Academic Integrity**\n",
    "\n",
    "This is an individual assessment, and you should produce your own work. You may discuss the assignment with your colleagues in the early stages of problem solving, but you should write your own solutions, and should not share solutions with your fellow students. References are required for any external content that you draw on. Asking others (e.g. friends,family, websites, tutors) for answers to questions is contract cheating, and is not permitted\n",
    "\n",
    "---\n",
    "\n",
    "**Instructions for the assignment:**\n",
    "- The assignment is a single Jupyter notebook, containing 2 questions (each with multiple parts).\n",
    "- You are free to use code snippets from the tutorial notebooks.\n",
    "- The assignment also has five associated text files, which contain the input data for analysis in the assignment. These files are automatically read in within the notebook. They simply need to be in the same folder as the Jupyter notebook file. These files are available in the github repository. **If you're using the Binder server, you do not need take any action outside the notebook environment to read the files**. If you are running the notebook on your own local setup, you need to download and put them in the same folder as the notebook.\n",
    "- If you use the Binder server, make sure to save frequently (e.g., after your work on every question), and download your work after every session. You can re-upload your partially complete work in your next session to continue working on it.\n",
    "- Sometimes Binder server launch can fail. If that happens restart the launch. If the problem persists, contact me (via email/slack/in-person/etc).\n",
    "- You can submit your completed notebook either as a Jupyter notebook (preferred) or as a PDF version of the notebook through Blackboard.\n",
    "- Some questions may require you to define new python variables/functions and test your work by running cells over and over or add new cells for yourself to check/test. This is fine. Just make sure that after you have tested what you return is a clean notebook that runs smoothly and only has the output that is requested in each question.\n",
    "\n",
    "- Before submission, make sure that your notebook can be executed in a single run from beginning to end. E.g., by clicking the <kbd>Restart & Run All</kbd> under the <kbd>Kernel</kbd> menu. If there are questions/parts that you have left blank or incomplete, which do not allow a complete computational run to be executed, comment them out and add an explanation about your partial work in the same cell (as a python comment block)."
   ]
  },
  {
   "cell_type": "code",
   "execution_count": null,
   "metadata": {},
   "outputs": [],
   "source": [
    "import numpy as np\n",
    "import scipy.stats as st\n",
    "from scipy.optimize import fsolve, minimize\n",
    "from scipy.integrate import quad\n",
    "from scipy.misc import derivative\n",
    "import emcee\n",
    "from astropy.io import ascii\n",
    "import matplotlib.pylab as plt\n",
    "import matplotlib.colors as colors\n",
    "import corner\n",
    "\n",
    "# Setting plot fonts\n",
    "plt.rc('font', family='serif')\n",
    "\n",
    "# Below is a set of colors for matplotlib that is colorblind-friendly.\n",
    "# To use them in plotting commands, you can simply set \"color=colorset[N]\",\n",
    "# where N is an integer in [0,16), reflecting the index of the colors below.\n",
    "colorset = ['#000000','#00270C','#00443C','#005083',\n",
    "            '#034BCA','#483CFC','#9C2BFF','#EB24F4',\n",
    "            '#FF2DC2','#FF4986','#FF7356','#FFA443',\n",
    "            '#EBD155','#D3F187','#D7FFC8','#FFFFFF']\n",
    "\n",
    "def cornerplot(a,b,c,d):\n",
    "    fig = plt.figure(figsize=(8,8))\n",
    "    plot = corner.corner(np.array(list(zip(*[a,b]))),labels=['m','d'], show_titles=True, fig=fig, truths=[c, d],\n",
    "                  title_kwargs={\"fontsize\": 20},label_kwargs={\"fontsize\": 20})\n",
    "    return fig\n",
    "\n",
    "def mcmc_runner(logpf, x, y, dy):\n",
    "    ndim = 2       \n",
    "    nwalkers = 50  \n",
    "    nburn = 1000   \n",
    "    nsteps = 4000  \n",
    "    starting_guesses = 2 * np.random.rand(nwalkers, ndim)\n",
    "    sampler = emcee.EnsembleSampler(nwalkers, ndim, logpf, args=[x, y, dy])\n",
    "    sampler.run_mcmc(starting_guesses, nsteps)\n",
    "    posterior_sample_m = sampler.chain[:, nburn:, 0].ravel()\n",
    "    posterior_sample_d = sampler.chain[:, nburn:, 1].ravel()\n",
    "    return sampler.chain, posterior_sample_m, posterior_sample_d"
   ]
  },
  {
   "cell_type": "markdown",
   "metadata": {},
   "source": [
    "## Q 1: Descriptive statistics for samples and populations (8 points)\n",
    "\n",
    "As we discussed in the lecture, estimating the same descriptive statistics for a sample is different from calculating them for a function. Here, we have three samples and a PDF we like to examine:"
   ]
  },
  {
   "cell_type": "code",
   "execution_count": null,
   "metadata": {},
   "outputs": [],
   "source": [
    "sample1 = np.loadtxt('Data_Assignment_part1_sample1.txt')\n",
    "sample2 = np.loadtxt('Data_Assignment_part1_sample2.txt')\n",
    "sample3 = np.loadtxt('Data_Assignment_part1_sample3.txt')\n",
    "\n",
    "def a_new_pdf(x):\n",
    "    mu=0.4\n",
    "    beta=0.15\n",
    "    z = (x-mu)/beta\n",
    "    return np.exp(-(z+np.exp(-z)))/beta"
   ]
  },
  {
   "cell_type": "markdown",
   "metadata": {},
   "source": [
    "### a. Plot the PDF as a line and the samples as histograms (2 points)\n",
    "\n",
    "The goal is compare samples to the PDF. So, you can either plot all on the same plot or make a separate plot for each sample and plot the PDF in each one (which might make it visually easier). For binning, you can take ideas from our discussion on histograms in lecture 3."
   ]
  },
  {
   "cell_type": "code",
   "execution_count": null,
   "metadata": {},
   "outputs": [],
   "source": [
    "# <your turn>: output of this cell should be a plot \n",
    "# or 3 plots if you decide to plot each sample separately\n",
    "\n"
   ]
  },
  {
   "cell_type": "markdown",
   "metadata": {},
   "source": [
    "### b. Estimate the mean, standard deviation, kurtosis, skewness, median and 84% quantile for the samples and the PDF function. (5 points)\n",
    "\n",
    "Most of these are defined already in many packages available (including `numpy` and `scipy`). You can find and use the appropriate implementation and use, or define your own based on the definitions/estimations provided in lecture slides."
   ]
  },
  {
   "cell_type": "code",
   "execution_count": null,
   "metadata": {},
   "outputs": [],
   "source": [
    "# <your turn> The output of this cell is generated automatically\n",
    "# when you assign appropriate definitions for the variables below.\n",
    "# You can add your own functions and variables here\n",
    "\n",
    "\n",
    "\n",
    "\n",
    "pdf_mean = \n",
    "pdf_sigma = \n",
    "pdf_skewness = \n",
    "pdf_kurtosis = \n",
    "pdf_median = \n",
    "pdf_q84 = \n",
    "\n",
    "samp1_mean = \n",
    "samp2_mean = \n",
    "samp3_mean = \n",
    "\n",
    "samp1_sigma = \n",
    "samp2_sigma = \n",
    "samp3_sigma = \n",
    "\n",
    "samp1_skewness = \n",
    "samp2_skewness = \n",
    "samp3_skewness = \n",
    "\n",
    "samp1_kurtosis = \n",
    "samp2_kurtosis = \n",
    "samp3_kurtosis = \n",
    "\n",
    "samp1_median = \n",
    "samp2_median = \n",
    "samp3_median = \n",
    "\n",
    "samp1_q84 = \n",
    "samp2_q84 = \n",
    "samp3_q84 = \n",
    "\n",
    "## If the variables above evaulate to numbers, the following snippet should not require editting.\n",
    "print('\\t\\tsample1\\tsample2\\tsample3\\tsample4')\n",
    "print(f'mean:\\t\\t{samp1_mean}\\t{samp2_mean}\\t{samp3_mean}\\t{pdf_mean}')\n",
    "print(f'sigma:\\t\\t{samp1_sigma}\\t{samp2_sigma}\\t{samp3_sigma}\\t{pdf_sigma}')\n",
    "print(f'skewness:\\t{samp1_skewness}\\t{samp2_skewness}\\t{samp3_skewness}\\t{pdf_skewness}')\n",
    "print(f'kurtosis:\\t{samp1_kurtosis}\\t{samp2_kurtosis}\\t{samp3_kurtosis}\\t{pdf_kurtosis}')\n",
    "print(f'median:\\t\\t{samp1_median}\\t{samp2_median}\\t{samp3_median}\\t{pdf_median}')\n",
    "print(f'84% q:\\t\\t{samp1_q84}\\t{samp2_q84}\\t{samp3_q84}\\t{pdf_q84}')"
   ]
  },
  {
   "cell_type": "markdown",
   "metadata": {},
   "source": [
    "### c. One of the three samples above is drawn from the PDF `a_new_pdf`. Provide a short argument on which sample you think might be from the PDF and why. (1 point)\n",
    "\n",
    "Double click the markdown box below to write your answer there and explain your reasoning."
   ]
  },
  {
   "cell_type": "markdown",
   "metadata": {},
   "source": [
    "$\\color{red}{<your~turn>}$"
   ]
  },
  {
   "cell_type": "markdown",
   "metadata": {},
   "source": [
    "## Q 2: Inference (42 points)"
   ]
  },
  {
   "cell_type": "markdown",
   "metadata": {},
   "source": [
    "### Data\n",
    "\n",
    "In the cell below, we read in a data file comprised of three columns into three arrays:\n",
    "\n",
    "- `data_x`: Independent variable $X = [x_1,\\cdots,x_n]$\n",
    "- `data_y`: Dependent variable $Y = [y_1,\\cdots,y_n]$\n",
    "- `data_dy`: 1-$\\sigma$ Uncertainty on the dependent variable $\\sigma =[\\sigma_i,\\cdots,\\sigma_n]$"
   ]
  },
  {
   "cell_type": "code",
   "execution_count": null,
   "metadata": {},
   "outputs": [],
   "source": [
    "data = np.loadtxt('Data_Assignment_part2.txt',skiprows=1)\n",
    "data_x = data.T[0]\n",
    "data_y = data.T[1]\n",
    "data_dy = data.T[2]"
   ]
  },
  {
   "cell_type": "markdown",
   "metadata": {},
   "source": [
    "### a. EDA (2 points)\n",
    "\n",
    "Plot the data with uncertainties, with $Y$ as a function of $X$."
   ]
  },
  {
   "cell_type": "code",
   "execution_count": null,
   "metadata": {},
   "outputs": [],
   "source": [
    "# <your turn>: output of this cell should be a plot\n",
    "\n"
   ]
  },
  {
   "cell_type": "markdown",
   "metadata": {},
   "source": [
    "### b. Likelihood and frequentist point-estimation (6 points)\n",
    "\n",
    "Define a linear model $f(X, m, d)$ so that:\n",
    "\n",
    "$$ Y \\sim mX+d $$\n",
    "\n",
    "where $m$ and $d$ are scalar model parameters.\n",
    "\n",
    "Construct a simple gaussian (log)-likelihood function, and use maximum likelihood estimation to estimate the best-fit values for $m$ and $d$."
   ]
  },
  {
   "cell_type": "code",
   "execution_count": null,
   "metadata": {},
   "outputs": [],
   "source": [
    "# <your turn>: This cell should contain your definition for model, likelihood (and other functions you may need).\n",
    "# Output of this cell should be printed best-fit values of m and d\n",
    "\n",
    "\n",
    "\n",
    "\n",
    "\n",
    "freq_best_fit_m = \n",
    "freq_best_fit_d = \n",
    "\n",
    "print(f'Best-fit m: {freq_best_fit_m}\\nBest-fit d: {freq_best_fit_d}')"
   ]
  },
  {
   "cell_type": "markdown",
   "metadata": {},
   "source": [
    "### c. Plot your best-fit model on top of your data (1 points)\n",
    "\n",
    "You can simply re-use your code for part a and modify it."
   ]
  },
  {
   "cell_type": "code",
   "execution_count": null,
   "metadata": {},
   "outputs": [],
   "source": [
    "# <your turn>: output of this cell should be a plot\n",
    "\n"
   ]
  },
  {
   "cell_type": "markdown",
   "metadata": {},
   "source": [
    "### d. $\\chi^2$ and goodness of the fit (4 points)\n",
    "\n",
    "Define a function to calculate the $\\chi^2$ for any choice of $m$ and $d$. Then calculate $\\chi^2$ and $\\chi^2_\\nu$ (reduced $\\chi^2$) for your best-fit model."
   ]
  },
  {
   "cell_type": "code",
   "execution_count": null,
   "metadata": {},
   "outputs": [],
   "source": [
    "# <your turn>: output of this cell should be printed values for best-fit's chi2 and reduced chi2\n",
    "\n",
    "\n"
   ]
  },
  {
   "cell_type": "markdown",
   "metadata": {},
   "source": [
    "### e. Fisher information (6 points)\n",
    "\n",
    "Estimate the uncertainty on each parameter using the Fisher information."
   ]
  },
  {
   "cell_type": "code",
   "execution_count": null,
   "metadata": {},
   "outputs": [],
   "source": [
    "# <your turn>: output of this cell should be printed values for uncertainties in m and d\n",
    "# This cell can include new functions and variables you may need to define\n",
    "\n",
    "\n"
   ]
  },
  {
   "cell_type": "markdown",
   "metadata": {},
   "source": [
    "### f. $\\Delta$-statistic uncertainties (5 points)\n",
    "\n",
    "Estimate the 1-$\\sigma$ uncertainty on model parameters using the $\\Delta$-statistic method.\n",
    "\n",
    "- **Note 1**: This is an estimate, answers withing 10% of 1-$\\sigma$ are acceptable.\n",
    "- **Note 2**: Remember these uncertainties are not necessarily symmetric like the Fisher estimates. Thus you need to estimate the lower and upper uncertainties on each parameter separately.\n",
    "\n",
    "- **Hint**: Comparing with the Tutorial, you can already see that just one more dimension in the parameter space requires changes in our approach. One simple (yet relatively computationally inefficient) way to approach the problem is a \"grid-search\". I.e., over a 2-D grid of values for $m$ and $d$, search for points on the grid where the condition (for being $\\approx$1-$\\sigma$) is satisfied. The smallest and largest values of $m$ and $d$ which satistfy the condition are your error bounds (based on which you can calculate uncertainties). Your grid doesn't need to be very large, and the range and grid resolution for each of $m$ and $d$ can be guessed from your calculations for the previous cells above. Note that this method is only one way to estimate the uncertainties. You are free to explore/use other methods. "
   ]
  },
  {
   "cell_type": "code",
   "execution_count": null,
   "metadata": {},
   "outputs": [],
   "source": [
    "# <your turn>: output of this cell should be printed values for uncertainties in m and d\n",
    "# This cell can include new functions and variables you may need to define\n",
    "\n",
    "\"\"\"\n",
    "Note regarding the grid search method:\n",
    "If you decide to use the grid-search method mentioned above, try to optimize your search \n",
    "based on what you know about the parameter space. For example, your search doesn't need \n",
    "to wander very far from the best-fit values. Given requested precision, your search should \n",
    "not require more than a total of 1e6 points (1000 per axis).\n",
    "\"\"\"\n",
    "\n"
   ]
  },
  {
   "cell_type": "markdown",
   "metadata": {},
   "source": [
    "### g. Bootstrap/Monte-Carlo (4 points)\n",
    "\n",
    "Estimate the 1-$\\sigma$ uncertainty on model parameters using bootstrap simulations. Assume each $y_i$ and $\\sigma_i$ represent a gaussian distribution for measurement uncertainty. $\\sigma_i$ and $x_i$ are set by the observation. Thus you are only bootstrapping the $y_i$ measurements (not $x_i$ or $\\sigma$). You don't need more than 5000 simulations.\n",
    "\n",
    "hint: you can use the 15.9% and 84.1% quantiles as the boundaries of the central ~68% (i.e., equivalent of 1-$\\sigma$)."
   ]
  },
  {
   "cell_type": "code",
   "execution_count": null,
   "metadata": {},
   "outputs": [],
   "source": [
    "# <your turn>: output of this cell should be printed values for uncertainties in m and d\n",
    "# This cell can include new functions and variables you may need to define\n",
    "\n"
   ]
  },
  {
   "cell_type": "markdown",
   "metadata": {},
   "source": [
    "### h. Histograms for the bootstrap samples (1 point)\n",
    "\n",
    "Plot histograms for the bootstrap samples of $m$ and $d$."
   ]
  },
  {
   "cell_type": "code",
   "execution_count": null,
   "metadata": {},
   "outputs": [],
   "source": [
    "# <your turn>: output of this cell should be two plots\n"
   ]
  },
  {
   "cell_type": "markdown",
   "metadata": {},
   "source": [
    "### i. Bayesian inference (5 points)\n",
    "\n",
    "Define **normalized** log-prior PDFs for $m$ and $d$ such that:\n",
    "$$ m \\sim \\mathcal{N}(1,2)$$\n",
    "$$ d \\sim \\mathcal{U}(-1,20)$$\n",
    "\n",
    "And define your log-posterior such that:\n",
    "$$ P(m,d|X,Y,\\sigma) \\propto P(m) P(d) P(X,Y,\\sigma|m,d) $$\n",
    "\n",
    "For the posterior, note that:\n",
    "- You can ignore model evidence.\n",
    "- You can use the same likelihood function you defined in part b."
   ]
  },
  {
   "cell_type": "code",
   "execution_count": null,
   "metadata": {},
   "outputs": [],
   "source": [
    "# <your turn>: This cell will not have any outputs, just your definitions for the log-PDFs.\n",
    "\n",
    "def log_prior_m(m):\n",
    "    return\n",
    "\n",
    "\n",
    "def log_prior_d(d):\n",
    "    return\n",
    "\n",
    "\n",
    "def log_posterior(theta, x, y, dy):\n",
    "    m, d = theta\n",
    "    return\n",
    "\n",
    "\n"
   ]
  },
  {
   "cell_type": "markdown",
   "metadata": {},
   "source": [
    "#### MCMC sampling\n",
    "If your definitions above are computationally valid, the following cell will successfully run an MCMC sampling for the posterior PDF and produce posterior samples for m and d, stored in new variables called `m_posterior_samp` and `d_posterior_samp`. It will also store the chains in a variable called `chains`.\n",
    "\n",
    "This might take a few minutes to run and might print out warnings."
   ]
  },
  {
   "cell_type": "code",
   "execution_count": null,
   "metadata": {},
   "outputs": [],
   "source": [
    "# This cell does not require any modification, just exectue it.\n",
    "chains, m_posterior_samp, d_posterior_samp = mcmc_runner(log_posterior, data_x, data_y, data_dy)"
   ]
  },
  {
   "cell_type": "markdown",
   "metadata": {},
   "source": [
    "### j. Assessing chain convergence (2 point)\n",
    "\n",
    "The cell below will produce plots of parameter values per step for all the walkers in our MCMC."
   ]
  },
  {
   "cell_type": "code",
   "execution_count": null,
   "metadata": {},
   "outputs": [],
   "source": [
    "fig = plt.figure(figsize=(12,6))\n",
    "ax1 = fig.add_subplot(2,1,1)\n",
    "ax2 = fig.add_subplot(2,1,2)\n",
    "for chain_no in range(50):\n",
    "    ax1.plot(chains[chain_no,:,0],'-',lw=0.5,alpha=0.5)\n",
    "    ax2.plot(chains[chain_no,:,1],'-',lw=0.5,alpha=0.5)\n",
    "ax2.set_xlabel('Step number',fontsize=14)\n",
    "ax1.set_ylabel('Walker value for m',fontsize=14)\n",
    "ax2.set_ylabel('Walker value for d',fontsize=14)\n",
    "ax1.tick_params(axis='both', which='major', labelsize=14)\n",
    "ax1.tick_params(axis='both', which='major', length=5)\n",
    "ax1.tick_params(axis='both', which='minor', length=2.5)\n",
    "ax1.tick_params(axis='both', which='both',direction='in',right=True,top=True)\n",
    "ax2.tick_params(axis='both', which='major', labelsize=14)\n",
    "ax2.tick_params(axis='both', which='major', length=5)\n",
    "ax2.tick_params(axis='both', which='minor', length=2.5)\n",
    "ax2.tick_params(axis='both', which='both',direction='in',right=True,top=True)"
   ]
  },
  {
   "cell_type": "markdown",
   "metadata": {},
   "source": [
    "Our MCMC has 50 walkers, each taking 4000 steps and we dismiss the first 1000 steps as burn-in. Comment on whether the chains appear to have converged from these plots and whether 1000 steps appears to be sufficient for burn-in.\n",
    "\n",
    "Double click the markdown box below to write ."
   ]
  },
  {
   "cell_type": "markdown",
   "metadata": {},
   "source": [
    "$\\color{red}{<your~turn>}$"
   ]
  },
  {
   "cell_type": "markdown",
   "metadata": {},
   "source": [
    "### j.  Bayesian point and interval estimation (2 points)\n",
    "\n",
    "Using the posterior samples created in the cell above, perform point and interval estimation. Any appropriate point estimation is acceptable. For interval estimation, estimate the 1-$\\sigma$ uncertainties.\n",
    "\n",
    "#### Point estimation"
   ]
  },
  {
   "cell_type": "code",
   "execution_count": null,
   "metadata": {},
   "outputs": [],
   "source": [
    "# <your turn>: Output of this cell should be printed best-fit values of m and d\n",
    "\n",
    "\n"
   ]
  },
  {
   "cell_type": "markdown",
   "metadata": {},
   "source": [
    "#### Interval estimation"
   ]
  },
  {
   "cell_type": "code",
   "execution_count": null,
   "metadata": {},
   "outputs": [],
   "source": [
    "# <your turn>: output of this cell should be printed values for uncertainties in m and d\n",
    "\n"
   ]
  },
  {
   "cell_type": "markdown",
   "metadata": {},
   "source": [
    "### k. \"Corner\" plots for linked posterior samples (1 point)\n",
    "\n",
    "Pass your posterior samples for $m$ and $d$ along with the bayesian best-fit values for those parameters to the function below to see a visualization of your results."
   ]
  },
  {
   "cell_type": "code",
   "execution_count": null,
   "metadata": {},
   "outputs": [],
   "source": [
    "# <your turn>: This cell will automatically return a plot, you simply need to fill in function arguments\n",
    "# replace a,b,c,d as following:\n",
    "# a should be your posterior sample for m\n",
    "# b should be your posterior sample for d\n",
    "# c should be your bayesian best-fit value for m\n",
    "# d should be your bayesian best-fit value for d\n",
    "\n",
    "cornerplot(a,b,c,d);"
   ]
  },
  {
   "cell_type": "markdown",
   "metadata": {},
   "source": [
    "### l. Compare the uncertainty (interval) estimation results from parts e, f, g, j and comment on potential reasons behind any significant (i.e., a factor of a few) discrepancies (3 points).\n",
    "\n",
    "Double click the markdown box below to write your answer there and explain your reasoning."
   ]
  },
  {
   "cell_type": "markdown",
   "metadata": {},
   "source": [
    "$\\color{red}{<your~turn>}$"
   ]
  },
  {
   "cell_type": "markdown",
   "metadata": {},
   "source": [
    "**End of questions**\n",
    "\n",
    "Make sure that you:\n",
    "\n",
    "- [x] Typed in your name in the first cell of the Notebook.\n",
    "- [x] Saved the Notebook after your modifications.\n",
    "- [x] Cleaned the Notebook: if you have added cells/work to test items that are not requested, remove them.\n",
    "- [x] Tested the Notebook and that the notebook can be executed in a single sequential run. E.g., by clicking the <kbd>Restart & Run All</kbd> under the <kbd>Kernel</kbd> menu.\n",
    "- [x] Make sure that every cell that should have an output, has an output displayed.\n",
    "- [x] If you're using Binder, save and download the completed Notebook.\n",
    "- [x] Upload the finished notebook to Blackboard (as Jupyter Notebook or PDF)\n",
    "\n",
    "**End of assignmnet**"
   ]
  }
 ],
 "metadata": {
  "kernelspec": {
   "display_name": "bayes",
   "language": "python",
   "name": "bayes"
  },
  "language_info": {
   "codemirror_mode": {
    "name": "ipython",
    "version": 3
   },
   "file_extension": ".py",
   "mimetype": "text/x-python",
   "name": "python",
   "nbconvert_exporter": "python",
   "pygments_lexer": "ipython3",
   "version": "3.10.5"
  }
 },
 "nbformat": 4,
 "nbformat_minor": 4
}
